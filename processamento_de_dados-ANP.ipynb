{
 "cells": [
  {
   "cell_type": "code",
   "execution_count": 1,
   "metadata": {},
   "outputs": [
    {
     "name": "stdout",
     "output_type": "stream",
     "text": [
      "Requirement already satisfied: pandas in /Users/giuliana/miniconda3/lib/python3.11/site-packages (2.2.1)\n",
      "Requirement already satisfied: numpy<2,>=1.23.2 in /Users/giuliana/miniconda3/lib/python3.11/site-packages (from pandas) (1.26.4)\n",
      "Requirement already satisfied: python-dateutil>=2.8.2 in /Users/giuliana/miniconda3/lib/python3.11/site-packages (from pandas) (2.9.0.post0)\n",
      "Requirement already satisfied: pytz>=2020.1 in /Users/giuliana/miniconda3/lib/python3.11/site-packages (from pandas) (2024.1)\n",
      "Requirement already satisfied: tzdata>=2022.7 in /Users/giuliana/miniconda3/lib/python3.11/site-packages (from pandas) (2024.1)\n",
      "Requirement already satisfied: six>=1.5 in /Users/giuliana/miniconda3/lib/python3.11/site-packages (from python-dateutil>=2.8.2->pandas) (1.16.0)\n"
     ]
    }
   ],
   "source": [
    "!pip install pandas "
   ]
  },
  {
   "cell_type": "code",
   "execution_count": 2,
   "metadata": {},
   "outputs": [
    {
     "name": "stdout",
     "output_type": "stream",
     "text": [
      "Requirement already satisfied: psycopg2-binary in /Library/Frameworks/Python.framework/Versions/3.12/lib/python3.12/site-packages (2.9.9)\n",
      "\n",
      "\u001b[1m[\u001b[0m\u001b[34;49mnotice\u001b[0m\u001b[1;39;49m]\u001b[0m\u001b[39;49m A new release of pip is available: \u001b[0m\u001b[31;49m23.2.1\u001b[0m\u001b[39;49m -> \u001b[0m\u001b[32;49m24.0\u001b[0m\n",
      "\u001b[1m[\u001b[0m\u001b[34;49mnotice\u001b[0m\u001b[1;39;49m]\u001b[0m\u001b[39;49m To update, run: \u001b[0m\u001b[32;49mpip3 install --upgrade pip\u001b[0m\n",
      "Note: you may need to restart the kernel to use updated packages.\n"
     ]
    }
   ],
   "source": [
    "pip install psycopg2-binary"
   ]
  },
  {
   "cell_type": "code",
   "execution_count": 3,
   "metadata": {},
   "outputs": [],
   "source": [
    "import psycopg2 as ps"
   ]
  },
  {
   "cell_type": "code",
   "execution_count": 4,
   "metadata": {},
   "outputs": [],
   "source": [
    "import pandas as pd\n",
    "import pandas.io.sql as sqlio"
   ]
  },
  {
   "cell_type": "code",
   "execution_count": 5,
   "metadata": {},
   "outputs": [],
   "source": [
    "#conexão com o banco de dados\n",
    "conn = ps.connect(dbname = \"ANP\",\n",
    "                  user = 'postgres',\n",
    "                  password = 'DoritoMan5677',\n",
    "                  host = 'localhost',\n",
    "                  port = '5432')"
   ]
  },
  {
   "cell_type": "code",
   "execution_count": 6,
   "metadata": {},
   "outputs": [],
   "source": [
    "sql = \"\"\" \n",
    "SELECT * FROM anp.preco_combustivel\n",
    "\"\"\""
   ]
  },
  {
   "cell_type": "code",
   "execution_count": 7,
   "metadata": {},
   "outputs": [
    {
     "name": "stderr",
     "output_type": "stream",
     "text": [
      "/var/folders/rx/b37fngts0v1fljw_kvgpxnpm0000gn/T/ipykernel_1094/158990251.py:2: UserWarning: pandas only supports SQLAlchemy connectable (engine/connection) or database string URI or sqlite3 DBAPI2 connection. Other DBAPI2 objects are not tested. Please consider using SQLAlchemy.\n",
      "  df = sqlio.read_sql_query(sql, conn)\n"
     ]
    }
   ],
   "source": [
    "# trazendo os resultados sql e a conexão com o banco\n",
    "df = sqlio.read_sql_query(sql, conn)"
   ]
  },
  {
   "cell_type": "code",
   "execution_count": 8,
   "metadata": {},
   "outputs": [
    {
     "data": {
      "text/html": [
       "<div>\n",
       "<style scoped>\n",
       "    .dataframe tbody tr th:only-of-type {\n",
       "        vertical-align: middle;\n",
       "    }\n",
       "\n",
       "    .dataframe tbody tr th {\n",
       "        vertical-align: top;\n",
       "    }\n",
       "\n",
       "    .dataframe thead th {\n",
       "        text-align: right;\n",
       "    }\n",
       "</style>\n",
       "<table border=\"1\" class=\"dataframe\">\n",
       "  <thead>\n",
       "    <tr style=\"text-align: right;\">\n",
       "      <th></th>\n",
       "      <th>regiao</th>\n",
       "      <th>estado</th>\n",
       "      <th>municipio</th>\n",
       "      <th>revenda</th>\n",
       "      <th>cnpj</th>\n",
       "      <th>nome_rua</th>\n",
       "      <th>numero_rua</th>\n",
       "      <th>complemento</th>\n",
       "      <th>bairro</th>\n",
       "      <th>cep</th>\n",
       "      <th>produto</th>\n",
       "      <th>data_coleta</th>\n",
       "      <th>valor_venda</th>\n",
       "      <th>unidade_medida</th>\n",
       "      <th>bandeira</th>\n",
       "    </tr>\n",
       "  </thead>\n",
       "  <tbody>\n",
       "    <tr>\n",
       "      <th>0</th>\n",
       "      <td>N</td>\n",
       "      <td>AC</td>\n",
       "      <td>RIO BRANCO</td>\n",
       "      <td>AUTO POSTO AMAPA - EIRELI</td>\n",
       "      <td>00.529.581/0001-53</td>\n",
       "      <td>VIA CHICO MENDES</td>\n",
       "      <td>3570</td>\n",
       "      <td>None</td>\n",
       "      <td>AREAL</td>\n",
       "      <td>69906-119</td>\n",
       "      <td>GASOLINA</td>\n",
       "      <td>2022-01-03</td>\n",
       "      <td>6.99</td>\n",
       "      <td>R$ / litro</td>\n",
       "      <td>VIBRA ENERGIA</td>\n",
       "    </tr>\n",
       "    <tr>\n",
       "      <th>1</th>\n",
       "      <td>N</td>\n",
       "      <td>AC</td>\n",
       "      <td>RIO BRANCO</td>\n",
       "      <td>AUTO POSTO AMAPA - EIRELI</td>\n",
       "      <td>00.529.581/0001-53</td>\n",
       "      <td>VIA CHICO MENDES</td>\n",
       "      <td>3570</td>\n",
       "      <td>None</td>\n",
       "      <td>AREAL</td>\n",
       "      <td>69906-119</td>\n",
       "      <td>ETANOL</td>\n",
       "      <td>2022-01-03</td>\n",
       "      <td>5.99</td>\n",
       "      <td>R$ / litro</td>\n",
       "      <td>VIBRA ENERGIA</td>\n",
       "    </tr>\n",
       "    <tr>\n",
       "      <th>2</th>\n",
       "      <td>N</td>\n",
       "      <td>AC</td>\n",
       "      <td>RIO BRANCO</td>\n",
       "      <td>AUTO POSTO AMAPA - EIRELI</td>\n",
       "      <td>00.529.581/0001-53</td>\n",
       "      <td>VIA CHICO MENDES</td>\n",
       "      <td>3570</td>\n",
       "      <td>None</td>\n",
       "      <td>AREAL</td>\n",
       "      <td>69906-119</td>\n",
       "      <td>DIESEL</td>\n",
       "      <td>2022-01-03</td>\n",
       "      <td>6.09</td>\n",
       "      <td>R$ / litro</td>\n",
       "      <td>VIBRA ENERGIA</td>\n",
       "    </tr>\n",
       "    <tr>\n",
       "      <th>3</th>\n",
       "      <td>N</td>\n",
       "      <td>AC</td>\n",
       "      <td>RIO BRANCO</td>\n",
       "      <td>AUTO POSTO AMAPA - EIRELI</td>\n",
       "      <td>00.529.581/0001-53</td>\n",
       "      <td>VIA CHICO MENDES</td>\n",
       "      <td>3570</td>\n",
       "      <td>None</td>\n",
       "      <td>AREAL</td>\n",
       "      <td>69906-119</td>\n",
       "      <td>GASOLINA ADITIVADA</td>\n",
       "      <td>2022-01-03</td>\n",
       "      <td>7.05</td>\n",
       "      <td>R$ / litro</td>\n",
       "      <td>VIBRA ENERGIA</td>\n",
       "    </tr>\n",
       "    <tr>\n",
       "      <th>4</th>\n",
       "      <td>N</td>\n",
       "      <td>AC</td>\n",
       "      <td>RIO BRANCO</td>\n",
       "      <td>AUTO POSTO AMAPA - EIRELI</td>\n",
       "      <td>00.529.581/0001-53</td>\n",
       "      <td>VIA CHICO MENDES</td>\n",
       "      <td>3570</td>\n",
       "      <td>None</td>\n",
       "      <td>AREAL</td>\n",
       "      <td>69906-119</td>\n",
       "      <td>DIESEL S10</td>\n",
       "      <td>2022-01-03</td>\n",
       "      <td>6.12</td>\n",
       "      <td>R$ / litro</td>\n",
       "      <td>VIBRA ENERGIA</td>\n",
       "    </tr>\n",
       "  </tbody>\n",
       "</table>\n",
       "</div>"
      ],
      "text/plain": [
       "  regiao estado   municipio                    revenda                 cnpj  \\\n",
       "0      N     AC  RIO BRANCO  AUTO POSTO AMAPA - EIRELI   00.529.581/0001-53   \n",
       "1      N     AC  RIO BRANCO  AUTO POSTO AMAPA - EIRELI   00.529.581/0001-53   \n",
       "2      N     AC  RIO BRANCO  AUTO POSTO AMAPA - EIRELI   00.529.581/0001-53   \n",
       "3      N     AC  RIO BRANCO  AUTO POSTO AMAPA - EIRELI   00.529.581/0001-53   \n",
       "4      N     AC  RIO BRANCO  AUTO POSTO AMAPA - EIRELI   00.529.581/0001-53   \n",
       "\n",
       "           nome_rua numero_rua complemento bairro        cep  \\\n",
       "0  VIA CHICO MENDES       3570        None  AREAL  69906-119   \n",
       "1  VIA CHICO MENDES       3570        None  AREAL  69906-119   \n",
       "2  VIA CHICO MENDES       3570        None  AREAL  69906-119   \n",
       "3  VIA CHICO MENDES       3570        None  AREAL  69906-119   \n",
       "4  VIA CHICO MENDES       3570        None  AREAL  69906-119   \n",
       "\n",
       "              produto data_coleta  valor_venda unidade_medida       bandeira  \n",
       "0            GASOLINA  2022-01-03         6.99     R$ / litro  VIBRA ENERGIA  \n",
       "1              ETANOL  2022-01-03         5.99     R$ / litro  VIBRA ENERGIA  \n",
       "2              DIESEL  2022-01-03         6.09     R$ / litro  VIBRA ENERGIA  \n",
       "3  GASOLINA ADITIVADA  2022-01-03         7.05     R$ / litro  VIBRA ENERGIA  \n",
       "4          DIESEL S10  2022-01-03         6.12     R$ / litro  VIBRA ENERGIA  "
      ]
     },
     "execution_count": 8,
     "metadata": {},
     "output_type": "execute_result"
    }
   ],
   "source": [
    "df.head()"
   ]
  },
  {
   "cell_type": "code",
   "execution_count": 9,
   "metadata": {},
   "outputs": [
    {
     "name": "stdout",
     "output_type": "stream",
     "text": [
      "<class 'pandas.core.frame.DataFrame'>\n",
      "RangeIndex: 4428267 entries, 0 to 4428266\n",
      "Data columns (total 15 columns):\n",
      " #   Column          Dtype  \n",
      "---  ------          -----  \n",
      " 0   regiao          object \n",
      " 1   estado          object \n",
      " 2   municipio       object \n",
      " 3   revenda         object \n",
      " 4   cnpj            object \n",
      " 5   nome_rua        object \n",
      " 6   numero_rua      object \n",
      " 7   complemento     object \n",
      " 8   bairro          object \n",
      " 9   cep             object \n",
      " 10  produto         object \n",
      " 11  data_coleta     object \n",
      " 12  valor_venda     float64\n",
      " 13  unidade_medida  object \n",
      " 14  bandeira        object \n",
      "dtypes: float64(1), object(14)\n",
      "memory usage: 506.8+ MB\n"
     ]
    }
   ],
   "source": [
    "df.info()"
   ]
  },
  {
   "cell_type": "code",
   "execution_count": 10,
   "metadata": {},
   "outputs": [
    {
     "data": {
      "text/plain": [
       "(4428267, 15)"
      ]
     },
     "execution_count": 10,
     "metadata": {},
     "output_type": "execute_result"
    }
   ],
   "source": [
    "df.shape"
   ]
  },
  {
   "cell_type": "code",
   "execution_count": 11,
   "metadata": {},
   "outputs": [],
   "source": [
    "df['data_coleta'] = pd.to_datetime(df['data_coleta'])"
   ]
  },
  {
   "cell_type": "code",
   "execution_count": 12,
   "metadata": {},
   "outputs": [
    {
     "name": "stdout",
     "output_type": "stream",
     "text": [
      "<class 'pandas.core.frame.DataFrame'>\n",
      "RangeIndex: 4428267 entries, 0 to 4428266\n",
      "Data columns (total 15 columns):\n",
      " #   Column          Dtype         \n",
      "---  ------          -----         \n",
      " 0   regiao          object        \n",
      " 1   estado          object        \n",
      " 2   municipio       object        \n",
      " 3   revenda         object        \n",
      " 4   cnpj            object        \n",
      " 5   nome_rua        object        \n",
      " 6   numero_rua      object        \n",
      " 7   complemento     object        \n",
      " 8   bairro          object        \n",
      " 9   cep             object        \n",
      " 10  produto         object        \n",
      " 11  data_coleta     datetime64[ns]\n",
      " 12  valor_venda     float64       \n",
      " 13  unidade_medida  object        \n",
      " 14  bandeira        object        \n",
      "dtypes: datetime64[ns](1), float64(1), object(13)\n",
      "memory usage: 506.8+ MB\n"
     ]
    }
   ],
   "source": [
    "df.info()"
   ]
  },
  {
   "cell_type": "code",
   "execution_count": 13,
   "metadata": {},
   "outputs": [
    {
     "data": {
      "text/plain": [
       "regiao                  0\n",
       "estado                  0\n",
       "municipio               0\n",
       "revenda                 0\n",
       "cnpj                    0\n",
       "nome_rua                0\n",
       "numero_rua           2843\n",
       "complemento       3374774\n",
       "bairro              13814\n",
       "cep                     0\n",
       "produto                 0\n",
       "data_coleta             0\n",
       "valor_venda             0\n",
       "unidade_medida          0\n",
       "bandeira                0\n",
       "dtype: int64"
      ]
     },
     "execution_count": 13,
     "metadata": {},
     "output_type": "execute_result"
    }
   ],
   "source": [
    "# verificando se existem dados nulos\n",
    "df.isnull().sum()"
   ]
  },
  {
   "cell_type": "code",
   "execution_count": 14,
   "metadata": {},
   "outputs": [],
   "source": [
    "# selecionando as colunas que usaremos na nossa análise\n",
    "df_anp = df[['data_coleta', 'regiao', 'estado', 'municipio', 'bandeira', 'produto', 'valor_venda']]"
   ]
  },
  {
   "cell_type": "code",
   "execution_count": 15,
   "metadata": {},
   "outputs": [
    {
     "data": {
      "text/html": [
       "<div>\n",
       "<style scoped>\n",
       "    .dataframe tbody tr th:only-of-type {\n",
       "        vertical-align: middle;\n",
       "    }\n",
       "\n",
       "    .dataframe tbody tr th {\n",
       "        vertical-align: top;\n",
       "    }\n",
       "\n",
       "    .dataframe thead th {\n",
       "        text-align: right;\n",
       "    }\n",
       "</style>\n",
       "<table border=\"1\" class=\"dataframe\">\n",
       "  <thead>\n",
       "    <tr style=\"text-align: right;\">\n",
       "      <th></th>\n",
       "      <th>data_coleta</th>\n",
       "      <th>regiao</th>\n",
       "      <th>estado</th>\n",
       "      <th>municipio</th>\n",
       "      <th>bandeira</th>\n",
       "      <th>produto</th>\n",
       "      <th>valor_venda</th>\n",
       "    </tr>\n",
       "  </thead>\n",
       "  <tbody>\n",
       "    <tr>\n",
       "      <th>0</th>\n",
       "      <td>2022-01-03</td>\n",
       "      <td>N</td>\n",
       "      <td>AC</td>\n",
       "      <td>RIO BRANCO</td>\n",
       "      <td>VIBRA ENERGIA</td>\n",
       "      <td>GASOLINA</td>\n",
       "      <td>6.99</td>\n",
       "    </tr>\n",
       "    <tr>\n",
       "      <th>1</th>\n",
       "      <td>2022-01-03</td>\n",
       "      <td>N</td>\n",
       "      <td>AC</td>\n",
       "      <td>RIO BRANCO</td>\n",
       "      <td>VIBRA ENERGIA</td>\n",
       "      <td>ETANOL</td>\n",
       "      <td>5.99</td>\n",
       "    </tr>\n",
       "    <tr>\n",
       "      <th>2</th>\n",
       "      <td>2022-01-03</td>\n",
       "      <td>N</td>\n",
       "      <td>AC</td>\n",
       "      <td>RIO BRANCO</td>\n",
       "      <td>VIBRA ENERGIA</td>\n",
       "      <td>DIESEL</td>\n",
       "      <td>6.09</td>\n",
       "    </tr>\n",
       "    <tr>\n",
       "      <th>3</th>\n",
       "      <td>2022-01-03</td>\n",
       "      <td>N</td>\n",
       "      <td>AC</td>\n",
       "      <td>RIO BRANCO</td>\n",
       "      <td>VIBRA ENERGIA</td>\n",
       "      <td>GASOLINA ADITIVADA</td>\n",
       "      <td>7.05</td>\n",
       "    </tr>\n",
       "    <tr>\n",
       "      <th>4</th>\n",
       "      <td>2022-01-03</td>\n",
       "      <td>N</td>\n",
       "      <td>AC</td>\n",
       "      <td>RIO BRANCO</td>\n",
       "      <td>VIBRA ENERGIA</td>\n",
       "      <td>DIESEL S10</td>\n",
       "      <td>6.12</td>\n",
       "    </tr>\n",
       "  </tbody>\n",
       "</table>\n",
       "</div>"
      ],
      "text/plain": [
       "  data_coleta regiao estado   municipio       bandeira             produto  \\\n",
       "0  2022-01-03      N     AC  RIO BRANCO  VIBRA ENERGIA            GASOLINA   \n",
       "1  2022-01-03      N     AC  RIO BRANCO  VIBRA ENERGIA              ETANOL   \n",
       "2  2022-01-03      N     AC  RIO BRANCO  VIBRA ENERGIA              DIESEL   \n",
       "3  2022-01-03      N     AC  RIO BRANCO  VIBRA ENERGIA  GASOLINA ADITIVADA   \n",
       "4  2022-01-03      N     AC  RIO BRANCO  VIBRA ENERGIA          DIESEL S10   \n",
       "\n",
       "   valor_venda  \n",
       "0         6.99  \n",
       "1         5.99  \n",
       "2         6.09  \n",
       "3         7.05  \n",
       "4         6.12  "
      ]
     },
     "execution_count": 15,
     "metadata": {},
     "output_type": "execute_result"
    }
   ],
   "source": [
    "df_anp.head()"
   ]
  },
  {
   "cell_type": "code",
   "execution_count": 16,
   "metadata": {},
   "outputs": [
    {
     "name": "stderr",
     "output_type": "stream",
     "text": [
      "/var/folders/rx/b37fngts0v1fljw_kvgpxnpm0000gn/T/ipykernel_1094/3211014845.py:1: SettingWithCopyWarning: \n",
      "A value is trying to be set on a copy of a slice from a DataFrame.\n",
      "Try using .loc[row_indexer,col_indexer] = value instead\n",
      "\n",
      "See the caveats in the documentation: https://pandas.pydata.org/pandas-docs/stable/user_guide/indexing.html#returning-a-view-versus-a-copy\n",
      "  df_anp['ano'] = df_anp['data_coleta'].dt.year\n",
      "/var/folders/rx/b37fngts0v1fljw_kvgpxnpm0000gn/T/ipykernel_1094/3211014845.py:2: SettingWithCopyWarning: \n",
      "A value is trying to be set on a copy of a slice from a DataFrame.\n",
      "Try using .loc[row_indexer,col_indexer] = value instead\n",
      "\n",
      "See the caveats in the documentation: https://pandas.pydata.org/pandas-docs/stable/user_guide/indexing.html#returning-a-view-versus-a-copy\n",
      "  df_anp['mes'] = df_anp['data_coleta'].dt.month\n"
     ]
    }
   ],
   "source": [
    "df_anp['ano'] = df_anp['data_coleta'].dt.year\n",
    "df_anp['mes'] = df_anp['data_coleta'].dt.month"
   ]
  },
  {
   "cell_type": "code",
   "execution_count": 17,
   "metadata": {},
   "outputs": [
    {
     "data": {
      "text/html": [
       "<div>\n",
       "<style scoped>\n",
       "    .dataframe tbody tr th:only-of-type {\n",
       "        vertical-align: middle;\n",
       "    }\n",
       "\n",
       "    .dataframe tbody tr th {\n",
       "        vertical-align: top;\n",
       "    }\n",
       "\n",
       "    .dataframe thead th {\n",
       "        text-align: right;\n",
       "    }\n",
       "</style>\n",
       "<table border=\"1\" class=\"dataframe\">\n",
       "  <thead>\n",
       "    <tr style=\"text-align: right;\">\n",
       "      <th></th>\n",
       "      <th>data_coleta</th>\n",
       "      <th>regiao</th>\n",
       "      <th>estado</th>\n",
       "      <th>municipio</th>\n",
       "      <th>bandeira</th>\n",
       "      <th>produto</th>\n",
       "      <th>valor_venda</th>\n",
       "      <th>ano</th>\n",
       "      <th>mes</th>\n",
       "    </tr>\n",
       "  </thead>\n",
       "  <tbody>\n",
       "    <tr>\n",
       "      <th>0</th>\n",
       "      <td>2022-01-03</td>\n",
       "      <td>N</td>\n",
       "      <td>AC</td>\n",
       "      <td>RIO BRANCO</td>\n",
       "      <td>VIBRA ENERGIA</td>\n",
       "      <td>GASOLINA</td>\n",
       "      <td>6.99</td>\n",
       "      <td>2022</td>\n",
       "      <td>1</td>\n",
       "    </tr>\n",
       "    <tr>\n",
       "      <th>1</th>\n",
       "      <td>2022-01-03</td>\n",
       "      <td>N</td>\n",
       "      <td>AC</td>\n",
       "      <td>RIO BRANCO</td>\n",
       "      <td>VIBRA ENERGIA</td>\n",
       "      <td>ETANOL</td>\n",
       "      <td>5.99</td>\n",
       "      <td>2022</td>\n",
       "      <td>1</td>\n",
       "    </tr>\n",
       "    <tr>\n",
       "      <th>2</th>\n",
       "      <td>2022-01-03</td>\n",
       "      <td>N</td>\n",
       "      <td>AC</td>\n",
       "      <td>RIO BRANCO</td>\n",
       "      <td>VIBRA ENERGIA</td>\n",
       "      <td>DIESEL</td>\n",
       "      <td>6.09</td>\n",
       "      <td>2022</td>\n",
       "      <td>1</td>\n",
       "    </tr>\n",
       "    <tr>\n",
       "      <th>3</th>\n",
       "      <td>2022-01-03</td>\n",
       "      <td>N</td>\n",
       "      <td>AC</td>\n",
       "      <td>RIO BRANCO</td>\n",
       "      <td>VIBRA ENERGIA</td>\n",
       "      <td>GASOLINA ADITIVADA</td>\n",
       "      <td>7.05</td>\n",
       "      <td>2022</td>\n",
       "      <td>1</td>\n",
       "    </tr>\n",
       "    <tr>\n",
       "      <th>4</th>\n",
       "      <td>2022-01-03</td>\n",
       "      <td>N</td>\n",
       "      <td>AC</td>\n",
       "      <td>RIO BRANCO</td>\n",
       "      <td>VIBRA ENERGIA</td>\n",
       "      <td>DIESEL S10</td>\n",
       "      <td>6.12</td>\n",
       "      <td>2022</td>\n",
       "      <td>1</td>\n",
       "    </tr>\n",
       "  </tbody>\n",
       "</table>\n",
       "</div>"
      ],
      "text/plain": [
       "  data_coleta regiao estado   municipio       bandeira             produto  \\\n",
       "0  2022-01-03      N     AC  RIO BRANCO  VIBRA ENERGIA            GASOLINA   \n",
       "1  2022-01-03      N     AC  RIO BRANCO  VIBRA ENERGIA              ETANOL   \n",
       "2  2022-01-03      N     AC  RIO BRANCO  VIBRA ENERGIA              DIESEL   \n",
       "3  2022-01-03      N     AC  RIO BRANCO  VIBRA ENERGIA  GASOLINA ADITIVADA   \n",
       "4  2022-01-03      N     AC  RIO BRANCO  VIBRA ENERGIA          DIESEL S10   \n",
       "\n",
       "   valor_venda   ano  mes  \n",
       "0         6.99  2022    1  \n",
       "1         5.99  2022    1  \n",
       "2         6.09  2022    1  \n",
       "3         7.05  2022    1  \n",
       "4         6.12  2022    1  "
      ]
     },
     "execution_count": 17,
     "metadata": {},
     "output_type": "execute_result"
    }
   ],
   "source": [
    "df_anp.head()"
   ]
  },
  {
   "cell_type": "code",
   "execution_count": 18,
   "metadata": {},
   "outputs": [
    {
     "data": {
      "text/html": [
       "<div>\n",
       "<style scoped>\n",
       "    .dataframe tbody tr th:only-of-type {\n",
       "        vertical-align: middle;\n",
       "    }\n",
       "\n",
       "    .dataframe tbody tr th {\n",
       "        vertical-align: top;\n",
       "    }\n",
       "\n",
       "    .dataframe thead th {\n",
       "        text-align: right;\n",
       "    }\n",
       "</style>\n",
       "<table border=\"1\" class=\"dataframe\">\n",
       "  <thead>\n",
       "    <tr style=\"text-align: right;\">\n",
       "      <th></th>\n",
       "      <th>data_coleta</th>\n",
       "      <th>valor_venda</th>\n",
       "      <th>ano</th>\n",
       "      <th>mes</th>\n",
       "    </tr>\n",
       "  </thead>\n",
       "  <tbody>\n",
       "    <tr>\n",
       "      <th>count</th>\n",
       "      <td>4428267</td>\n",
       "      <td>4428267.00</td>\n",
       "      <td>4428267.00</td>\n",
       "      <td>4428267.00</td>\n",
       "    </tr>\n",
       "    <tr>\n",
       "      <th>mean</th>\n",
       "      <td>2020-07-04 11:21:47.738220032</td>\n",
       "      <td>4.49</td>\n",
       "      <td>2020.03</td>\n",
       "      <td>6.26</td>\n",
       "    </tr>\n",
       "    <tr>\n",
       "      <th>min</th>\n",
       "      <td>2018-07-02 00:00:00</td>\n",
       "      <td>1.80</td>\n",
       "      <td>2018.00</td>\n",
       "      <td>1.00</td>\n",
       "    </tr>\n",
       "    <tr>\n",
       "      <th>25%</th>\n",
       "      <td>2019-04-22 00:00:00</td>\n",
       "      <td>3.55</td>\n",
       "      <td>2019.00</td>\n",
       "      <td>3.00</td>\n",
       "    </tr>\n",
       "    <tr>\n",
       "      <th>50%</th>\n",
       "      <td>2020-03-23 00:00:00</td>\n",
       "      <td>4.20</td>\n",
       "      <td>2020.00</td>\n",
       "      <td>6.00</td>\n",
       "    </tr>\n",
       "    <tr>\n",
       "      <th>75%</th>\n",
       "      <td>2021-10-19 00:00:00</td>\n",
       "      <td>5.20</td>\n",
       "      <td>2021.00</td>\n",
       "      <td>9.00</td>\n",
       "    </tr>\n",
       "    <tr>\n",
       "      <th>max</th>\n",
       "      <td>2022-12-30 00:00:00</td>\n",
       "      <td>9.65</td>\n",
       "      <td>2022.00</td>\n",
       "      <td>12.00</td>\n",
       "    </tr>\n",
       "    <tr>\n",
       "      <th>std</th>\n",
       "      <td>NaN</td>\n",
       "      <td>1.29</td>\n",
       "      <td>1.34</td>\n",
       "      <td>3.38</td>\n",
       "    </tr>\n",
       "  </tbody>\n",
       "</table>\n",
       "</div>"
      ],
      "text/plain": [
       "                         data_coleta  valor_venda         ano         mes\n",
       "count                        4428267   4428267.00  4428267.00  4428267.00\n",
       "mean   2020-07-04 11:21:47.738220032         4.49     2020.03        6.26\n",
       "min              2018-07-02 00:00:00         1.80     2018.00        1.00\n",
       "25%              2019-04-22 00:00:00         3.55     2019.00        3.00\n",
       "50%              2020-03-23 00:00:00         4.20     2020.00        6.00\n",
       "75%              2021-10-19 00:00:00         5.20     2021.00        9.00\n",
       "max              2022-12-30 00:00:00         9.65     2022.00       12.00\n",
       "std                              NaN         1.29        1.34        3.38"
      ]
     },
     "execution_count": 18,
     "metadata": {},
     "output_type": "execute_result"
    }
   ],
   "source": [
    "df_anp.describe().round(2)"
   ]
  },
  {
   "cell_type": "code",
   "execution_count": 19,
   "metadata": {},
   "outputs": [
    {
     "name": "stdout",
     "output_type": "stream",
     "text": [
      "Os produtos comercializados são: ['GASOLINA' 'ETANOL' 'DIESEL' 'GASOLINA ADITIVADA' 'DIESEL S10' 'GNV']\n"
     ]
    }
   ],
   "source": [
    "print(f'Os produtos comercializados são: {df_anp.produto.unique()}')"
   ]
  },
  {
   "cell_type": "code",
   "execution_count": 20,
   "metadata": {},
   "outputs": [
    {
     "name": "stdout",
     "output_type": "stream",
     "text": [
      "A coleta de dados foi feita nos anos de [2022 2021 2020 2019 2018]\n"
     ]
    }
   ],
   "source": [
    "print(f'A coleta de dados foi feita nos anos de {df_anp.ano.unique()}')"
   ]
  },
  {
   "cell_type": "code",
   "execution_count": 21,
   "metadata": {},
   "outputs": [],
   "source": [
    "df_anp_valor = df_anp[['ano', 'produto', 'valor_venda']]"
   ]
  },
  {
   "cell_type": "code",
   "execution_count": 22,
   "metadata": {},
   "outputs": [
    {
     "data": {
      "text/html": [
       "<div>\n",
       "<style scoped>\n",
       "    .dataframe tbody tr th:only-of-type {\n",
       "        vertical-align: middle;\n",
       "    }\n",
       "\n",
       "    .dataframe tbody tr th {\n",
       "        vertical-align: top;\n",
       "    }\n",
       "\n",
       "    .dataframe thead tr th {\n",
       "        text-align: left;\n",
       "    }\n",
       "\n",
       "    .dataframe thead tr:last-of-type th {\n",
       "        text-align: right;\n",
       "    }\n",
       "</style>\n",
       "<table border=\"1\" class=\"dataframe\">\n",
       "  <thead>\n",
       "    <tr>\n",
       "      <th></th>\n",
       "      <th></th>\n",
       "      <th colspan=\"3\" halign=\"left\">valor_venda</th>\n",
       "    </tr>\n",
       "    <tr>\n",
       "      <th></th>\n",
       "      <th></th>\n",
       "      <th>min</th>\n",
       "      <th>max</th>\n",
       "      <th>mean</th>\n",
       "    </tr>\n",
       "    <tr>\n",
       "      <th>produto</th>\n",
       "      <th>ano</th>\n",
       "      <th></th>\n",
       "      <th></th>\n",
       "      <th></th>\n",
       "    </tr>\n",
       "  </thead>\n",
       "  <tbody>\n",
       "    <tr>\n",
       "      <th rowspan=\"5\" valign=\"top\">DIESEL</th>\n",
       "      <th>2018</th>\n",
       "      <td>2.87</td>\n",
       "      <td>4.95</td>\n",
       "      <td>3.55</td>\n",
       "    </tr>\n",
       "    <tr>\n",
       "      <th>2019</th>\n",
       "      <td>2.87</td>\n",
       "      <td>4.99</td>\n",
       "      <td>3.58</td>\n",
       "    </tr>\n",
       "    <tr>\n",
       "      <th>2020</th>\n",
       "      <td>2.45</td>\n",
       "      <td>5.09</td>\n",
       "      <td>3.42</td>\n",
       "    </tr>\n",
       "    <tr>\n",
       "      <th>2021</th>\n",
       "      <td>3.10</td>\n",
       "      <td>6.99</td>\n",
       "      <td>4.69</td>\n",
       "    </tr>\n",
       "    <tr>\n",
       "      <th>2022</th>\n",
       "      <td>3.14</td>\n",
       "      <td>9.00</td>\n",
       "      <td>6.63</td>\n",
       "    </tr>\n",
       "    <tr>\n",
       "      <th rowspan=\"5\" valign=\"top\">DIESEL S10</th>\n",
       "      <th>2018</th>\n",
       "      <td>2.93</td>\n",
       "      <td>5.09</td>\n",
       "      <td>3.64</td>\n",
       "    </tr>\n",
       "    <tr>\n",
       "      <th>2019</th>\n",
       "      <td>2.79</td>\n",
       "      <td>5.09</td>\n",
       "      <td>3.68</td>\n",
       "    </tr>\n",
       "    <tr>\n",
       "      <th>2020</th>\n",
       "      <td>2.46</td>\n",
       "      <td>5.38</td>\n",
       "      <td>3.51</td>\n",
       "    </tr>\n",
       "    <tr>\n",
       "      <th>2021</th>\n",
       "      <td>2.80</td>\n",
       "      <td>6.96</td>\n",
       "      <td>4.74</td>\n",
       "    </tr>\n",
       "    <tr>\n",
       "      <th>2022</th>\n",
       "      <td>3.59</td>\n",
       "      <td>9.65</td>\n",
       "      <td>6.73</td>\n",
       "    </tr>\n",
       "    <tr>\n",
       "      <th rowspan=\"5\" valign=\"top\">ETANOL</th>\n",
       "      <th>2018</th>\n",
       "      <td>1.90</td>\n",
       "      <td>4.98</td>\n",
       "      <td>3.09</td>\n",
       "    </tr>\n",
       "    <tr>\n",
       "      <th>2019</th>\n",
       "      <td>2.10</td>\n",
       "      <td>5.47</td>\n",
       "      <td>3.17</td>\n",
       "    </tr>\n",
       "    <tr>\n",
       "      <th>2020</th>\n",
       "      <td>1.80</td>\n",
       "      <td>5.15</td>\n",
       "      <td>3.18</td>\n",
       "    </tr>\n",
       "    <tr>\n",
       "      <th>2021</th>\n",
       "      <td>2.05</td>\n",
       "      <td>7.90</td>\n",
       "      <td>4.67</td>\n",
       "    </tr>\n",
       "    <tr>\n",
       "      <th>2022</th>\n",
       "      <td>2.49</td>\n",
       "      <td>7.98</td>\n",
       "      <td>4.85</td>\n",
       "    </tr>\n",
       "    <tr>\n",
       "      <th rowspan=\"5\" valign=\"top\">GASOLINA</th>\n",
       "      <th>2018</th>\n",
       "      <td>3.65</td>\n",
       "      <td>6.29</td>\n",
       "      <td>4.58</td>\n",
       "    </tr>\n",
       "    <tr>\n",
       "      <th>2019</th>\n",
       "      <td>3.39</td>\n",
       "      <td>6.29</td>\n",
       "      <td>4.42</td>\n",
       "    </tr>\n",
       "    <tr>\n",
       "      <th>2020</th>\n",
       "      <td>2.87</td>\n",
       "      <td>5.90</td>\n",
       "      <td>4.28</td>\n",
       "    </tr>\n",
       "    <tr>\n",
       "      <th>2021</th>\n",
       "      <td>3.10</td>\n",
       "      <td>8.00</td>\n",
       "      <td>5.89</td>\n",
       "    </tr>\n",
       "    <tr>\n",
       "      <th>2022</th>\n",
       "      <td>3.49</td>\n",
       "      <td>8.99</td>\n",
       "      <td>6.32</td>\n",
       "    </tr>\n",
       "    <tr>\n",
       "      <th rowspan=\"3\" valign=\"top\">GASOLINA ADITIVADA</th>\n",
       "      <th>2020</th>\n",
       "      <td>3.69</td>\n",
       "      <td>6.00</td>\n",
       "      <td>4.59</td>\n",
       "    </tr>\n",
       "    <tr>\n",
       "      <th>2021</th>\n",
       "      <td>3.46</td>\n",
       "      <td>8.99</td>\n",
       "      <td>6.04</td>\n",
       "    </tr>\n",
       "    <tr>\n",
       "      <th>2022</th>\n",
       "      <td>4.09</td>\n",
       "      <td>9.28</td>\n",
       "      <td>6.47</td>\n",
       "    </tr>\n",
       "    <tr>\n",
       "      <th rowspan=\"5\" valign=\"top\">GNV</th>\n",
       "      <th>2018</th>\n",
       "      <td>1.91</td>\n",
       "      <td>4.10</td>\n",
       "      <td>2.89</td>\n",
       "    </tr>\n",
       "    <tr>\n",
       "      <th>2019</th>\n",
       "      <td>2.00</td>\n",
       "      <td>4.56</td>\n",
       "      <td>3.21</td>\n",
       "    </tr>\n",
       "    <tr>\n",
       "      <th>2020</th>\n",
       "      <td>2.00</td>\n",
       "      <td>4.78</td>\n",
       "      <td>3.17</td>\n",
       "    </tr>\n",
       "    <tr>\n",
       "      <th>2021</th>\n",
       "      <td>2.38</td>\n",
       "      <td>6.70</td>\n",
       "      <td>3.89</td>\n",
       "    </tr>\n",
       "    <tr>\n",
       "      <th>2022</th>\n",
       "      <td>3.17</td>\n",
       "      <td>7.99</td>\n",
       "      <td>5.04</td>\n",
       "    </tr>\n",
       "  </tbody>\n",
       "</table>\n",
       "</div>"
      ],
      "text/plain": [
       "                        valor_venda            \n",
       "                                min   max  mean\n",
       "produto            ano                         \n",
       "DIESEL             2018        2.87  4.95  3.55\n",
       "                   2019        2.87  4.99  3.58\n",
       "                   2020        2.45  5.09  3.42\n",
       "                   2021        3.10  6.99  4.69\n",
       "                   2022        3.14  9.00  6.63\n",
       "DIESEL S10         2018        2.93  5.09  3.64\n",
       "                   2019        2.79  5.09  3.68\n",
       "                   2020        2.46  5.38  3.51\n",
       "                   2021        2.80  6.96  4.74\n",
       "                   2022        3.59  9.65  6.73\n",
       "ETANOL             2018        1.90  4.98  3.09\n",
       "                   2019        2.10  5.47  3.17\n",
       "                   2020        1.80  5.15  3.18\n",
       "                   2021        2.05  7.90  4.67\n",
       "                   2022        2.49  7.98  4.85\n",
       "GASOLINA           2018        3.65  6.29  4.58\n",
       "                   2019        3.39  6.29  4.42\n",
       "                   2020        2.87  5.90  4.28\n",
       "                   2021        3.10  8.00  5.89\n",
       "                   2022        3.49  8.99  6.32\n",
       "GASOLINA ADITIVADA 2020        3.69  6.00  4.59\n",
       "                   2021        3.46  8.99  6.04\n",
       "                   2022        4.09  9.28  6.47\n",
       "GNV                2018        1.91  4.10  2.89\n",
       "                   2019        2.00  4.56  3.21\n",
       "                   2020        2.00  4.78  3.17\n",
       "                   2021        2.38  6.70  3.89\n",
       "                   2022        3.17  7.99  5.04"
      ]
     },
     "execution_count": 22,
     "metadata": {},
     "output_type": "execute_result"
    }
   ],
   "source": [
    "df_anp_valor.groupby(['produto', 'ano']).agg(['min', 'max', 'mean']).round(2)"
   ]
  },
  {
   "cell_type": "code",
   "execution_count": 23,
   "metadata": {},
   "outputs": [],
   "source": [
    "df_anp_valor_estado = df_anp[['ano', 'produto', 'estado', 'valor_venda']]"
   ]
  },
  {
   "cell_type": "code",
   "execution_count": 24,
   "metadata": {},
   "outputs": [
    {
     "data": {
      "text/html": [
       "<div>\n",
       "<style scoped>\n",
       "    .dataframe tbody tr th:only-of-type {\n",
       "        vertical-align: middle;\n",
       "    }\n",
       "\n",
       "    .dataframe tbody tr th {\n",
       "        vertical-align: top;\n",
       "    }\n",
       "\n",
       "    .dataframe thead th {\n",
       "        text-align: right;\n",
       "    }\n",
       "</style>\n",
       "<table border=\"1\" class=\"dataframe\">\n",
       "  <thead>\n",
       "    <tr style=\"text-align: right;\">\n",
       "      <th></th>\n",
       "      <th>ano</th>\n",
       "      <th>produto</th>\n",
       "      <th>estado</th>\n",
       "      <th>valor_venda</th>\n",
       "    </tr>\n",
       "  </thead>\n",
       "  <tbody>\n",
       "    <tr>\n",
       "      <th>0</th>\n",
       "      <td>2022</td>\n",
       "      <td>GASOLINA</td>\n",
       "      <td>AC</td>\n",
       "      <td>6.99</td>\n",
       "    </tr>\n",
       "    <tr>\n",
       "      <th>1</th>\n",
       "      <td>2022</td>\n",
       "      <td>ETANOL</td>\n",
       "      <td>AC</td>\n",
       "      <td>5.99</td>\n",
       "    </tr>\n",
       "    <tr>\n",
       "      <th>2</th>\n",
       "      <td>2022</td>\n",
       "      <td>DIESEL</td>\n",
       "      <td>AC</td>\n",
       "      <td>6.09</td>\n",
       "    </tr>\n",
       "  </tbody>\n",
       "</table>\n",
       "</div>"
      ],
      "text/plain": [
       "    ano   produto estado  valor_venda\n",
       "0  2022  GASOLINA     AC         6.99\n",
       "1  2022    ETANOL     AC         5.99\n",
       "2  2022    DIESEL     AC         6.09"
      ]
     },
     "execution_count": 24,
     "metadata": {},
     "output_type": "execute_result"
    }
   ],
   "source": [
    "df_anp_valor_estado.head(3)"
   ]
  },
  {
   "cell_type": "code",
   "execution_count": 25,
   "metadata": {},
   "outputs": [
    {
     "data": {
      "text/html": [
       "<div>\n",
       "<style scoped>\n",
       "    .dataframe tbody tr th:only-of-type {\n",
       "        vertical-align: middle;\n",
       "    }\n",
       "\n",
       "    .dataframe tbody tr th {\n",
       "        vertical-align: top;\n",
       "    }\n",
       "\n",
       "    .dataframe thead tr th {\n",
       "        text-align: left;\n",
       "    }\n",
       "\n",
       "    .dataframe thead tr:last-of-type th {\n",
       "        text-align: right;\n",
       "    }\n",
       "</style>\n",
       "<table border=\"1\" class=\"dataframe\">\n",
       "  <thead>\n",
       "    <tr>\n",
       "      <th></th>\n",
       "      <th></th>\n",
       "      <th></th>\n",
       "      <th colspan=\"3\" halign=\"left\">valor_venda</th>\n",
       "    </tr>\n",
       "    <tr>\n",
       "      <th></th>\n",
       "      <th></th>\n",
       "      <th></th>\n",
       "      <th>min</th>\n",
       "      <th>max</th>\n",
       "      <th>mean</th>\n",
       "    </tr>\n",
       "    <tr>\n",
       "      <th>produto</th>\n",
       "      <th>ano</th>\n",
       "      <th>estado</th>\n",
       "      <th></th>\n",
       "      <th></th>\n",
       "      <th></th>\n",
       "    </tr>\n",
       "  </thead>\n",
       "  <tbody>\n",
       "    <tr>\n",
       "      <th rowspan=\"5\" valign=\"top\">DIESEL</th>\n",
       "      <th rowspan=\"5\" valign=\"top\">2018</th>\n",
       "      <th>AC</th>\n",
       "      <td>3.38</td>\n",
       "      <td>4.89</td>\n",
       "      <td>4.38</td>\n",
       "    </tr>\n",
       "    <tr>\n",
       "      <th>AL</th>\n",
       "      <td>3.23</td>\n",
       "      <td>4.23</td>\n",
       "      <td>3.71</td>\n",
       "    </tr>\n",
       "    <tr>\n",
       "      <th>AM</th>\n",
       "      <td>3.17</td>\n",
       "      <td>4.46</td>\n",
       "      <td>3.69</td>\n",
       "    </tr>\n",
       "    <tr>\n",
       "      <th>AP</th>\n",
       "      <td>3.59</td>\n",
       "      <td>4.20</td>\n",
       "      <td>3.86</td>\n",
       "    </tr>\n",
       "    <tr>\n",
       "      <th>BA</th>\n",
       "      <td>3.12</td>\n",
       "      <td>4.41</td>\n",
       "      <td>3.59</td>\n",
       "    </tr>\n",
       "    <tr>\n",
       "      <th>...</th>\n",
       "      <th>...</th>\n",
       "      <th>...</th>\n",
       "      <td>...</td>\n",
       "      <td>...</td>\n",
       "      <td>...</td>\n",
       "    </tr>\n",
       "    <tr>\n",
       "      <th rowspan=\"5\" valign=\"top\">GNV</th>\n",
       "      <th rowspan=\"5\" valign=\"top\">2022</th>\n",
       "      <th>RN</th>\n",
       "      <td>4.11</td>\n",
       "      <td>4.99</td>\n",
       "      <td>4.50</td>\n",
       "    </tr>\n",
       "    <tr>\n",
       "      <th>RS</th>\n",
       "      <td>4.59</td>\n",
       "      <td>6.89</td>\n",
       "      <td>5.88</td>\n",
       "    </tr>\n",
       "    <tr>\n",
       "      <th>SC</th>\n",
       "      <td>4.00</td>\n",
       "      <td>6.89</td>\n",
       "      <td>5.50</td>\n",
       "    </tr>\n",
       "    <tr>\n",
       "      <th>SE</th>\n",
       "      <td>4.47</td>\n",
       "      <td>5.49</td>\n",
       "      <td>4.99</td>\n",
       "    </tr>\n",
       "    <tr>\n",
       "      <th>SP</th>\n",
       "      <td>3.59</td>\n",
       "      <td>6.99</td>\n",
       "      <td>5.22</td>\n",
       "    </tr>\n",
       "  </tbody>\n",
       "</table>\n",
       "<p>726 rows × 3 columns</p>\n",
       "</div>"
      ],
      "text/plain": [
       "                    valor_venda            \n",
       "                            min   max  mean\n",
       "produto ano  estado                        \n",
       "DIESEL  2018 AC            3.38  4.89  4.38\n",
       "             AL            3.23  4.23  3.71\n",
       "             AM            3.17  4.46  3.69\n",
       "             AP            3.59  4.20  3.86\n",
       "             BA            3.12  4.41  3.59\n",
       "...                         ...   ...   ...\n",
       "GNV     2022 RN            4.11  4.99  4.50\n",
       "             RS            4.59  6.89  5.88\n",
       "             SC            4.00  6.89  5.50\n",
       "             SE            4.47  5.49  4.99\n",
       "             SP            3.59  6.99  5.22\n",
       "\n",
       "[726 rows x 3 columns]"
      ]
     },
     "execution_count": 25,
     "metadata": {},
     "output_type": "execute_result"
    }
   ],
   "source": [
    "df_anp_valor_estado.groupby(['produto', 'ano', 'estado']).agg(['min', 'max', 'mean']).round(2)"
   ]
  },
  {
   "cell_type": "code",
   "execution_count": 26,
   "metadata": {},
   "outputs": [
    {
     "data": {
      "text/html": [
       "<div>\n",
       "<style scoped>\n",
       "    .dataframe tbody tr th:only-of-type {\n",
       "        vertical-align: middle;\n",
       "    }\n",
       "\n",
       "    .dataframe tbody tr th {\n",
       "        vertical-align: top;\n",
       "    }\n",
       "\n",
       "    .dataframe thead th {\n",
       "        text-align: right;\n",
       "    }\n",
       "</style>\n",
       "<table border=\"1\" class=\"dataframe\">\n",
       "  <thead>\n",
       "    <tr style=\"text-align: right;\">\n",
       "      <th></th>\n",
       "      <th>ano</th>\n",
       "      <th>bandeira</th>\n",
       "      <th>produto</th>\n",
       "    </tr>\n",
       "  </thead>\n",
       "  <tbody>\n",
       "    <tr>\n",
       "      <th>0</th>\n",
       "      <td>2022</td>\n",
       "      <td>VIBRA ENERGIA</td>\n",
       "      <td>GASOLINA</td>\n",
       "    </tr>\n",
       "    <tr>\n",
       "      <th>1</th>\n",
       "      <td>2022</td>\n",
       "      <td>VIBRA ENERGIA</td>\n",
       "      <td>ETANOL</td>\n",
       "    </tr>\n",
       "    <tr>\n",
       "      <th>2</th>\n",
       "      <td>2022</td>\n",
       "      <td>VIBRA ENERGIA</td>\n",
       "      <td>DIESEL</td>\n",
       "    </tr>\n",
       "  </tbody>\n",
       "</table>\n",
       "</div>"
      ],
      "text/plain": [
       "    ano       bandeira   produto\n",
       "0  2022  VIBRA ENERGIA  GASOLINA\n",
       "1  2022  VIBRA ENERGIA    ETANOL\n",
       "2  2022  VIBRA ENERGIA    DIESEL"
      ]
     },
     "execution_count": 26,
     "metadata": {},
     "output_type": "execute_result"
    }
   ],
   "source": [
    "df_anp_bandeira = df_anp[['ano', 'bandeira', 'produto']]\n",
    "df_anp_bandeira.head(3)"
   ]
  },
  {
   "cell_type": "code",
   "execution_count": 27,
   "metadata": {},
   "outputs": [
    {
     "data": {
      "text/plain": [
       "ano   produto           \n",
       "2018  DIESEL                61\n",
       "      DIESEL S10            59\n",
       "      ETANOL                62\n",
       "      GASOLINA              62\n",
       "      GNV                   22\n",
       "2019  DIESEL                59\n",
       "      DIESEL S10            61\n",
       "      ETANOL                63\n",
       "      GASOLINA              64\n",
       "      GNV                   22\n",
       "2020  DIESEL                52\n",
       "      DIESEL S10            57\n",
       "      ETANOL                58\n",
       "      GASOLINA              58\n",
       "      GASOLINA ADITIVADA    43\n",
       "      GNV                   23\n",
       "2021  DIESEL                57\n",
       "      DIESEL S10            57\n",
       "      ETANOL                58\n",
       "      GASOLINA              58\n",
       "      GASOLINA ADITIVADA    57\n",
       "      GNV                   22\n",
       "2022  DIESEL                51\n",
       "      DIESEL S10            60\n",
       "      ETANOL                60\n",
       "      GASOLINA              60\n",
       "      GASOLINA ADITIVADA    58\n",
       "      GNV                   24\n",
       "Name: bandeira, dtype: int64"
      ]
     },
     "execution_count": 27,
     "metadata": {},
     "output_type": "execute_result"
    }
   ],
   "source": [
    "# quantidade de bandeiras por produto/ano\n",
    "df_anp_bandeira.groupby(['ano', 'produto']).bandeira.nunique()"
   ]
  },
  {
   "cell_type": "code",
   "execution_count": 28,
   "metadata": {},
   "outputs": [
    {
     "data": {
      "text/html": [
       "<div>\n",
       "<style scoped>\n",
       "    .dataframe tbody tr th:only-of-type {\n",
       "        vertical-align: middle;\n",
       "    }\n",
       "\n",
       "    .dataframe tbody tr th {\n",
       "        vertical-align: top;\n",
       "    }\n",
       "\n",
       "    .dataframe thead th {\n",
       "        text-align: right;\n",
       "    }\n",
       "</style>\n",
       "<table border=\"1\" class=\"dataframe\">\n",
       "  <thead>\n",
       "    <tr style=\"text-align: right;\">\n",
       "      <th></th>\n",
       "      <th>ano</th>\n",
       "      <th>bandeira</th>\n",
       "      <th>produto</th>\n",
       "      <th>estado</th>\n",
       "    </tr>\n",
       "  </thead>\n",
       "  <tbody>\n",
       "    <tr>\n",
       "      <th>0</th>\n",
       "      <td>2022</td>\n",
       "      <td>VIBRA ENERGIA</td>\n",
       "      <td>GASOLINA</td>\n",
       "      <td>AC</td>\n",
       "    </tr>\n",
       "    <tr>\n",
       "      <th>1</th>\n",
       "      <td>2022</td>\n",
       "      <td>VIBRA ENERGIA</td>\n",
       "      <td>ETANOL</td>\n",
       "      <td>AC</td>\n",
       "    </tr>\n",
       "    <tr>\n",
       "      <th>2</th>\n",
       "      <td>2022</td>\n",
       "      <td>VIBRA ENERGIA</td>\n",
       "      <td>DIESEL</td>\n",
       "      <td>AC</td>\n",
       "    </tr>\n",
       "  </tbody>\n",
       "</table>\n",
       "</div>"
      ],
      "text/plain": [
       "    ano       bandeira   produto estado\n",
       "0  2022  VIBRA ENERGIA  GASOLINA     AC\n",
       "1  2022  VIBRA ENERGIA    ETANOL     AC\n",
       "2  2022  VIBRA ENERGIA    DIESEL     AC"
      ]
     },
     "execution_count": 28,
     "metadata": {},
     "output_type": "execute_result"
    }
   ],
   "source": [
    "df_anp_bandeira_estado = df_anp[['ano', 'bandeira', 'produto', 'estado']]\n",
    "df_anp_bandeira_estado.head(3)"
   ]
  },
  {
   "cell_type": "code",
   "execution_count": 29,
   "metadata": {},
   "outputs": [
    {
     "data": {
      "text/plain": [
       "ano   produto  estado\n",
       "2018  DIESEL   AC        6\n",
       "               AL        4\n",
       "               AM        9\n",
       "               AP        3\n",
       "               BA        9\n",
       "                        ..\n",
       "2022  GNV      RN        5\n",
       "               RS        6\n",
       "               SC        8\n",
       "               SE        5\n",
       "               SP        7\n",
       "Name: bandeira, Length: 726, dtype: int64"
      ]
     },
     "execution_count": 29,
     "metadata": {},
     "output_type": "execute_result"
    }
   ],
   "source": [
    "df_anp_bandeira_estado.groupby(['ano', 'produto', 'estado']).bandeira.nunique()"
   ]
  },
  {
   "cell_type": "markdown",
   "metadata": {},
   "source": [
    "Criando visualizações de dados"
   ]
  },
  {
   "cell_type": "code",
   "execution_count": 30,
   "metadata": {},
   "outputs": [
    {
     "name": "stdout",
     "output_type": "stream",
     "text": [
      "Collecting matplotlib\n",
      "  Downloading matplotlib-3.8.3-cp311-cp311-macosx_11_0_arm64.whl.metadata (5.8 kB)\n",
      "Collecting contourpy>=1.0.1 (from matplotlib)\n",
      "  Downloading contourpy-1.2.0-cp311-cp311-macosx_11_0_arm64.whl.metadata (5.8 kB)\n",
      "Collecting cycler>=0.10 (from matplotlib)\n",
      "  Downloading cycler-0.12.1-py3-none-any.whl.metadata (3.8 kB)\n",
      "Collecting fonttools>=4.22.0 (from matplotlib)\n",
      "  Downloading fonttools-4.50.0-cp311-cp311-macosx_10_9_universal2.whl.metadata (159 kB)\n",
      "\u001b[2K     \u001b[90m━━━━━━━━━━━━━━━━━━━━━━━━━━━━━━━━━━━━━━━\u001b[0m \u001b[32m159.4/159.4 kB\u001b[0m \u001b[31m3.3 MB/s\u001b[0m eta \u001b[36m0:00:00\u001b[0ma \u001b[36m0:00:01\u001b[0m\n",
      "\u001b[?25hCollecting kiwisolver>=1.3.1 (from matplotlib)\n",
      "  Downloading kiwisolver-1.4.5-cp311-cp311-macosx_11_0_arm64.whl.metadata (6.4 kB)\n",
      "Requirement already satisfied: numpy<2,>=1.21 in /Users/giuliana/miniconda3/lib/python3.11/site-packages (from matplotlib) (1.26.4)\n",
      "Requirement already satisfied: packaging>=20.0 in /Users/giuliana/miniconda3/lib/python3.11/site-packages (from matplotlib) (23.1)\n",
      "Collecting pillow>=8 (from matplotlib)\n",
      "  Downloading pillow-10.3.0-cp311-cp311-macosx_11_0_arm64.whl.metadata (9.2 kB)\n",
      "Collecting pyparsing>=2.3.1 (from matplotlib)\n",
      "  Downloading pyparsing-3.1.2-py3-none-any.whl.metadata (5.1 kB)\n",
      "Requirement already satisfied: python-dateutil>=2.7 in /Users/giuliana/miniconda3/lib/python3.11/site-packages (from matplotlib) (2.9.0.post0)\n",
      "Requirement already satisfied: six>=1.5 in /Users/giuliana/miniconda3/lib/python3.11/site-packages (from python-dateutil>=2.7->matplotlib) (1.16.0)\n",
      "Downloading matplotlib-3.8.3-cp311-cp311-macosx_11_0_arm64.whl (7.5 MB)\n",
      "\u001b[2K   \u001b[90m━━━━━━━━━━━━━━━━━━━━━━━━━━━━━━━━━━━━━━━━\u001b[0m \u001b[32m7.5/7.5 MB\u001b[0m \u001b[31m13.8 MB/s\u001b[0m eta \u001b[36m0:00:00\u001b[0m00:01\u001b[0m00:01\u001b[0m\n",
      "\u001b[?25hDownloading contourpy-1.2.0-cp311-cp311-macosx_11_0_arm64.whl (243 kB)\n",
      "\u001b[2K   \u001b[90m━━━━━━━━━━━━━━━━━━━━━━━━━━━━━━━━━━━━━━━━\u001b[0m \u001b[32m243.4/243.4 kB\u001b[0m \u001b[31m10.5 MB/s\u001b[0m eta \u001b[36m0:00:00\u001b[0m\n",
      "\u001b[?25hDownloading cycler-0.12.1-py3-none-any.whl (8.3 kB)\n",
      "Downloading fonttools-4.50.0-cp311-cp311-macosx_10_9_universal2.whl (2.8 MB)\n",
      "\u001b[2K   \u001b[90m━━━━━━━━━━━━━━━━━━━━━━━━━━━━━━━━━━━━━━━━\u001b[0m \u001b[32m2.8/2.8 MB\u001b[0m \u001b[31m18.1 MB/s\u001b[0m eta \u001b[36m0:00:00\u001b[0m00:01\u001b[0m00:01\u001b[0m\n",
      "\u001b[?25hDownloading kiwisolver-1.4.5-cp311-cp311-macosx_11_0_arm64.whl (66 kB)\n",
      "\u001b[2K   \u001b[90m━━━━━━━━━━━━━━━━━━━━━━━━━━━━━━━━━━━━━━━━\u001b[0m \u001b[32m66.2/66.2 kB\u001b[0m \u001b[31m5.0 MB/s\u001b[0m eta \u001b[36m0:00:00\u001b[0m\n",
      "\u001b[?25hDownloading pillow-10.3.0-cp311-cp311-macosx_11_0_arm64.whl (3.4 MB)\n",
      "\u001b[2K   \u001b[90m━━━━━━━━━━━━━━━━━━━━━━━━━━━━━━━━━━━━━━━━\u001b[0m \u001b[32m3.4/3.4 MB\u001b[0m \u001b[31m19.0 MB/s\u001b[0m eta \u001b[36m0:00:00\u001b[0ma \u001b[36m0:00:01\u001b[0m\n",
      "\u001b[?25hDownloading pyparsing-3.1.2-py3-none-any.whl (103 kB)\n",
      "\u001b[2K   \u001b[90m━━━━━━━━━━━━━━━━━━━━━━━━━━━━━━━━━━━━━━━━\u001b[0m \u001b[32m103.2/103.2 kB\u001b[0m \u001b[31m10.6 MB/s\u001b[0m eta \u001b[36m0:00:00\u001b[0m\n",
      "\u001b[?25hInstalling collected packages: pyparsing, pillow, kiwisolver, fonttools, cycler, contourpy, matplotlib\n",
      "Successfully installed contourpy-1.2.0 cycler-0.12.1 fonttools-4.50.0 kiwisolver-1.4.5 matplotlib-3.8.3 pillow-10.3.0 pyparsing-3.1.2\n"
     ]
    }
   ],
   "source": [
    "!pip install matplotlib"
   ]
  },
  {
   "cell_type": "code",
   "execution_count": 31,
   "metadata": {},
   "outputs": [
    {
     "name": "stdout",
     "output_type": "stream",
     "text": [
      "Collecting seaborn\n",
      "  Downloading seaborn-0.13.2-py3-none-any.whl.metadata (5.4 kB)\n",
      "Requirement already satisfied: numpy!=1.24.0,>=1.20 in /Users/giuliana/miniconda3/lib/python3.11/site-packages (from seaborn) (1.26.4)\n",
      "Requirement already satisfied: pandas>=1.2 in /Users/giuliana/miniconda3/lib/python3.11/site-packages (from seaborn) (2.2.1)\n",
      "Requirement already satisfied: matplotlib!=3.6.1,>=3.4 in /Users/giuliana/miniconda3/lib/python3.11/site-packages (from seaborn) (3.8.3)\n",
      "Requirement already satisfied: contourpy>=1.0.1 in /Users/giuliana/miniconda3/lib/python3.11/site-packages (from matplotlib!=3.6.1,>=3.4->seaborn) (1.2.0)\n",
      "Requirement already satisfied: cycler>=0.10 in /Users/giuliana/miniconda3/lib/python3.11/site-packages (from matplotlib!=3.6.1,>=3.4->seaborn) (0.12.1)\n",
      "Requirement already satisfied: fonttools>=4.22.0 in /Users/giuliana/miniconda3/lib/python3.11/site-packages (from matplotlib!=3.6.1,>=3.4->seaborn) (4.50.0)\n",
      "Requirement already satisfied: kiwisolver>=1.3.1 in /Users/giuliana/miniconda3/lib/python3.11/site-packages (from matplotlib!=3.6.1,>=3.4->seaborn) (1.4.5)\n",
      "Requirement already satisfied: packaging>=20.0 in /Users/giuliana/miniconda3/lib/python3.11/site-packages (from matplotlib!=3.6.1,>=3.4->seaborn) (23.1)\n",
      "Requirement already satisfied: pillow>=8 in /Users/giuliana/miniconda3/lib/python3.11/site-packages (from matplotlib!=3.6.1,>=3.4->seaborn) (10.3.0)\n",
      "Requirement already satisfied: pyparsing>=2.3.1 in /Users/giuliana/miniconda3/lib/python3.11/site-packages (from matplotlib!=3.6.1,>=3.4->seaborn) (3.1.2)\n",
      "Requirement already satisfied: python-dateutil>=2.7 in /Users/giuliana/miniconda3/lib/python3.11/site-packages (from matplotlib!=3.6.1,>=3.4->seaborn) (2.9.0.post0)\n",
      "Requirement already satisfied: pytz>=2020.1 in /Users/giuliana/miniconda3/lib/python3.11/site-packages (from pandas>=1.2->seaborn) (2024.1)\n",
      "Requirement already satisfied: tzdata>=2022.7 in /Users/giuliana/miniconda3/lib/python3.11/site-packages (from pandas>=1.2->seaborn) (2024.1)\n",
      "Requirement already satisfied: six>=1.5 in /Users/giuliana/miniconda3/lib/python3.11/site-packages (from python-dateutil>=2.7->matplotlib!=3.6.1,>=3.4->seaborn) (1.16.0)\n",
      "Downloading seaborn-0.13.2-py3-none-any.whl (294 kB)\n",
      "\u001b[2K   \u001b[90m━━━━━━━━━━━━━━━━━━━━━━━━━━━━━━━━━━━━━━━━\u001b[0m \u001b[32m294.9/294.9 kB\u001b[0m \u001b[31m4.0 MB/s\u001b[0m eta \u001b[36m0:00:00\u001b[0ma \u001b[36m0:00:01\u001b[0m\n",
      "\u001b[?25hInstalling collected packages: seaborn\n",
      "Successfully installed seaborn-0.13.2\n"
     ]
    }
   ],
   "source": [
    "!pip install seaborn"
   ]
  },
  {
   "cell_type": "code",
   "execution_count": 32,
   "metadata": {},
   "outputs": [],
   "source": [
    "import matplotlib.pyplot as plt\n",
    "import seaborn as sns"
   ]
  },
  {
   "cell_type": "code",
   "execution_count": 33,
   "metadata": {},
   "outputs": [
    {
     "data": {
      "text/html": [
       "<div>\n",
       "<style scoped>\n",
       "    .dataframe tbody tr th:only-of-type {\n",
       "        vertical-align: middle;\n",
       "    }\n",
       "\n",
       "    .dataframe tbody tr th {\n",
       "        vertical-align: top;\n",
       "    }\n",
       "\n",
       "    .dataframe thead th {\n",
       "        text-align: right;\n",
       "    }\n",
       "</style>\n",
       "<table border=\"1\" class=\"dataframe\">\n",
       "  <thead>\n",
       "    <tr style=\"text-align: right;\">\n",
       "      <th></th>\n",
       "      <th>data_coleta</th>\n",
       "      <th>regiao</th>\n",
       "      <th>estado</th>\n",
       "      <th>municipio</th>\n",
       "      <th>bandeira</th>\n",
       "      <th>produto</th>\n",
       "      <th>valor_venda</th>\n",
       "      <th>ano</th>\n",
       "      <th>mes</th>\n",
       "    </tr>\n",
       "  </thead>\n",
       "  <tbody>\n",
       "    <tr>\n",
       "      <th>0</th>\n",
       "      <td>2022-01-03</td>\n",
       "      <td>N</td>\n",
       "      <td>AC</td>\n",
       "      <td>RIO BRANCO</td>\n",
       "      <td>VIBRA ENERGIA</td>\n",
       "      <td>GASOLINA</td>\n",
       "      <td>6.99</td>\n",
       "      <td>2022</td>\n",
       "      <td>1</td>\n",
       "    </tr>\n",
       "    <tr>\n",
       "      <th>1</th>\n",
       "      <td>2022-01-03</td>\n",
       "      <td>N</td>\n",
       "      <td>AC</td>\n",
       "      <td>RIO BRANCO</td>\n",
       "      <td>VIBRA ENERGIA</td>\n",
       "      <td>ETANOL</td>\n",
       "      <td>5.99</td>\n",
       "      <td>2022</td>\n",
       "      <td>1</td>\n",
       "    </tr>\n",
       "    <tr>\n",
       "      <th>2</th>\n",
       "      <td>2022-01-03</td>\n",
       "      <td>N</td>\n",
       "      <td>AC</td>\n",
       "      <td>RIO BRANCO</td>\n",
       "      <td>VIBRA ENERGIA</td>\n",
       "      <td>DIESEL</td>\n",
       "      <td>6.09</td>\n",
       "      <td>2022</td>\n",
       "      <td>1</td>\n",
       "    </tr>\n",
       "  </tbody>\n",
       "</table>\n",
       "</div>"
      ],
      "text/plain": [
       "  data_coleta regiao estado   municipio       bandeira   produto  valor_venda  \\\n",
       "0  2022-01-03      N     AC  RIO BRANCO  VIBRA ENERGIA  GASOLINA         6.99   \n",
       "1  2022-01-03      N     AC  RIO BRANCO  VIBRA ENERGIA    ETANOL         5.99   \n",
       "2  2022-01-03      N     AC  RIO BRANCO  VIBRA ENERGIA    DIESEL         6.09   \n",
       "\n",
       "    ano  mes  \n",
       "0  2022    1  \n",
       "1  2022    1  \n",
       "2  2022    1  "
      ]
     },
     "execution_count": 33,
     "metadata": {},
     "output_type": "execute_result"
    }
   ],
   "source": [
    "df_anp.head(3)"
   ]
  },
  {
   "cell_type": "code",
   "execution_count": 35,
   "metadata": {},
   "outputs": [
    {
     "data": {
      "image/png": "[encoded data removed]",
      "text/plain": [
       "<Figure size 640x480 with 1 Axes>"
      ]
     },
     "metadata": {},
     "output_type": "display_data"
    }
   ],
   "source": [
    "ax = sns.lineplot(data = df_anp, x = \"data_coleta\", y = \"valor_venda\", hue = \"produto\")\n",
    "sns.move_legend(ax, \"upper left\", bbox_to_anchor=(1,1))"
   ]
  },
  {
   "cell_type": "code",
   "execution_count": 36,
   "metadata": {},
   "outputs": [],
   "source": [
    "# separando o dataset para entender melhor a base\n",
    "gasolina_aditivada = df_anp.loc[df['produto'] == 'GASOLINA ADITIVADA']\n",
    "gasolina = df_anp.loc[df['produto'] == 'GASOLINA']\n",
    "diesel_s10 = df_anp.loc[df['produto'] == 'DIESEL S10']\n",
    "diesel = df_anp.loc[df['produto'] == 'DIESEL']\n",
    "etanol = df_anp.loc[df['produto'] == 'ETANOL']\n",
    "gnv = df_anp.loc[df['produto'] == 'GNV']"
   ]
  },
  {
   "cell_type": "code",
   "execution_count": 37,
   "metadata": {},
   "outputs": [],
   "source": [
    "# criando funções que ajudam a plotar gráficos"
   ]
  },
  {
   "cell_type": "code",
   "execution_count": 38,
   "metadata": {},
   "outputs": [],
   "source": [
    "def plotar_boxplot_2V(titulo, labelx, labely, x, y, dataset):\n",
    "    sns.set_palette('Accent')\n",
    "    sns.set_style('darkgrid')\n",
    "    ax = sns.boxplot(x=x, y=y, data=dataset)\n",
    "    ax.figure.set_size_inches(12,6)\n",
    "    ax.set_title(titulo, loc='left', fontsize=18)\n",
    "    ax.set_xlabel(labelx, fontsize=14)\n",
    "    ax.set_ylabel(labely, fontsize=14);"
   ]
  },
  {
   "cell_type": "code",
   "execution_count": 39,
   "metadata": {},
   "outputs": [],
   "source": [
    "def plotar_boxplot_geral(y, dataset):\n",
    "    ax = sns.boxplot(y=y, data=dataset)\n",
    "    ax.figure.set_size_inches(4,4)"
   ]
  },
  {
   "cell_type": "markdown",
   "metadata": {},
   "source": [
    "Analisando os combustíveis"
   ]
  },
  {
   "cell_type": "markdown",
   "metadata": {},
   "source": [
    "Gasolina Aditivada"
   ]
  },
  {
   "cell_type": "code",
   "execution_count": 40,
   "metadata": {},
   "outputs": [
    {
     "name": "stdout",
     "output_type": "stream",
     "text": [
      "Gasolina Aditivada\n"
     ]
    },
    {
     "data": {
      "text/plain": [
       "count    340489.00\n",
       "mean          6.19\n",
       "std           0.94\n",
       "min           3.46\n",
       "25%           5.49\n",
       "50%           6.19\n",
       "75%           6.92\n",
       "max           9.28\n",
       "Name: valor_venda, dtype: float64"
      ]
     },
     "execution_count": 40,
     "metadata": {},
     "output_type": "execute_result"
    }
   ],
   "source": [
    "print('Gasolina Aditivada')\n",
    "gasolina_aditivada.valor_venda.describe().round(2)"
   ]
  },
  {
   "cell_type": "code",
   "execution_count": 41,
   "metadata": {},
   "outputs": [
    {
     "data": {
      "image/png": "[encoded data removed]",
      "text/plain": [
       "<Figure size 400x400 with 1 Axes>"
      ]
     },
     "metadata": {},
     "output_type": "display_data"
    }
   ],
   "source": [
    "plotar_boxplot_geral('valor_venda', gasolina_aditivada)"
   ]
  },
  {
   "cell_type": "code",
   "execution_count": 42,
   "metadata": {},
   "outputs": [
    {
     "data": {
      "image/png": "[encoded data removed]",
      "text/plain": [
       "<Figure size 1200x600 with 1 Axes>"
      ]
     },
     "metadata": {},
     "output_type": "display_data"
    }
   ],
   "source": [
    "plotar_boxplot_2V('Valor de venda (R$) da Gasolina Aditivada por Estado',\n",
    "                  'Estado',\n",
    "                  'Valor de venda R$',\n",
    "                  'estado',\n",
    "                  'valor_venda',\n",
    "                  gasolina_aditivada)"
   ]
  },
  {
   "cell_type": "markdown",
   "metadata": {},
   "source": [
    "Gasolina Comum"
   ]
  },
  {
   "cell_type": "code",
   "execution_count": 43,
   "metadata": {},
   "outputs": [
    {
     "name": "stdout",
     "output_type": "stream",
     "text": [
      "Gasolina\n"
     ]
    },
    {
     "data": {
      "text/plain": [
       "count    1254165.00\n",
       "mean           5.00\n",
       "std            1.00\n",
       "min            2.87\n",
       "25%            4.30\n",
       "50%            4.68\n",
       "75%            5.50\n",
       "max            8.99\n",
       "Name: valor_venda, dtype: float64"
      ]
     },
     "execution_count": 43,
     "metadata": {},
     "output_type": "execute_result"
    }
   ],
   "source": [
    "print('Gasolina')\n",
    "gasolina.valor_venda.describe().round(2)"
   ]
  },
  {
   "cell_type": "code",
   "execution_count": 44,
   "metadata": {},
   "outputs": [
    {
     "data": {
      "image/png": "[encoded data removed]",
      "text/plain": [
       "<Figure size 400x400 with 1 Axes>"
      ]
     },
     "metadata": {},
     "output_type": "display_data"
    }
   ],
   "source": [
    "plotar_boxplot_geral('valor_venda', gasolina)"
   ]
  },
  {
   "cell_type": "code",
   "execution_count": 45,
   "metadata": {},
   "outputs": [
    {
     "data": {
      "image/png": "[encoded data removed]",
      "text/plain": [
       "<Figure size 1200x600 with 1 Axes>"
      ]
     },
     "metadata": {},
     "output_type": "display_data"
    }
   ],
   "source": [
    "plotar_boxplot_2V('Valor de venda (R$) da Gasolina Comum por Estado',\n",
    "                  'Estado',\n",
    "                  'Valor de venda R$',\n",
    "                  'estado',\n",
    "                  'valor_venda',\n",
    "                  gasolina)"
   ]
  },
  {
   "cell_type": "markdown",
   "metadata": {},
   "source": [
    "Bandeiras"
   ]
  },
  {
   "cell_type": "code",
   "execution_count": 46,
   "metadata": {},
   "outputs": [
    {
     "data": {
      "text/plain": [
       "85"
      ]
     },
     "execution_count": 46,
     "metadata": {},
     "output_type": "execute_result"
    }
   ],
   "source": [
    "df_anp['bandeira'].nunique()"
   ]
  },
  {
   "cell_type": "code",
   "execution_count": 47,
   "metadata": {},
   "outputs": [
    {
     "data": {
      "text/plain": [
       "array(['VIBRA ENERGIA', 'BRANCA', 'SABBÁ', \"ATEM' S\", 'RAIZEN',\n",
       "       'IPIRANGA', 'ALESAT', 'SP', 'TAURUS', 'STANG', 'RODOIL',\n",
       "       'PETROX DISTRIBUIDORA', 'EQUADOR', 'MASUT DISTRIBUIDORA',\n",
       "       'RIO BRANCO', 'FAN', 'CHARRUA', 'RAIZEN MIME', 'CIAPETRO',\n",
       "       'PETROBAHIA', 'IDAZA', 'AMERICANOIL', 'SMALL',\n",
       "       'SETTA DISTRIBUIDORA', 'LARCO', 'FEDERAL ENERGIA', 'WATT',\n",
       "       'TOTALENERGIES', 'TEMAPE', 'ATLÂNTICA', 'SIMARELLI', 'DISLUB',\n",
       "       'UNI', 'PETROSERRA', 'POTENCIAL', 'MAXSUL', 'DIBRAPE', 'RUFF C.J.',\n",
       "       'RZD DISTRIBUIDORA', 'ROYAL FIC', 'TDC DISTRIBUIDORA',\n",
       "       'MONTEPETRO', 'TORRAO', 'WALENDOWSKY', 'SUL COMBUSTÍVEIS',\n",
       "       'REJAILE', 'TOBRAS', 'PELIKANO', 'ESTRADA', 'PETRONAC',\n",
       "       'SUPERGASBRAS ENERGIA', 'LIQUIGÁS', 'FOGAS', 'NACIONAL GÁS BUTANO',\n",
       "       'BAHIANA', 'ULTRAGAZ', 'AMAZONGÁS', 'ON PETRO', 'D`MAIS',\n",
       "       'PETROBRASIL', 'PETROBRAS DISTRIBUIDORA S.A.', 'TOTAL BRASIL',\n",
       "       'FEDERAL', 'TAG DISTRIBUIDORA', 'PODIUM', 'SABB¡',\n",
       "       'SUL COMBUSTÕVEIS', 'ATL¬NTICA', 'HORA', 'GRAN PETRO', 'DINAMO',\n",
       "       'RM PETROLEO', 'ACOL', 'SAARA', 'PETROLUZ', 'PR DISTRIBUIDORA',\n",
       "       'ZEMA', 'MEGAPETRO', 'GP', 'REDE SOL', 'AIR BP', '76 OIL',\n",
       "       'SATELITE', 'ALE COMBUSTÍVEIS', 'PETROX'], dtype=object)"
      ]
     },
     "execution_count": 47,
     "metadata": {},
     "output_type": "execute_result"
    }
   ],
   "source": [
    "df_anp['bandeira'].unique()"
   ]
  },
  {
   "cell_type": "code",
   "execution_count": 48,
   "metadata": {},
   "outputs": [],
   "source": [
    "bandeiras_estado = df_anp_bandeira_estado.groupby('estado').bandeira.nunique().reset_index()"
   ]
  },
  {
   "cell_type": "code",
   "execution_count": 49,
   "metadata": {},
   "outputs": [
    {
     "data": {
      "text/html": [
       "<div>\n",
       "<style scoped>\n",
       "    .dataframe tbody tr th:only-of-type {\n",
       "        vertical-align: middle;\n",
       "    }\n",
       "\n",
       "    .dataframe tbody tr th {\n",
       "        vertical-align: top;\n",
       "    }\n",
       "\n",
       "    .dataframe thead th {\n",
       "        text-align: right;\n",
       "    }\n",
       "</style>\n",
       "<table border=\"1\" class=\"dataframe\">\n",
       "  <thead>\n",
       "    <tr style=\"text-align: right;\">\n",
       "      <th></th>\n",
       "      <th>estado</th>\n",
       "      <th>bandeira</th>\n",
       "    </tr>\n",
       "  </thead>\n",
       "  <tbody>\n",
       "    <tr>\n",
       "      <th>0</th>\n",
       "      <td>AC</td>\n",
       "      <td>11</td>\n",
       "    </tr>\n",
       "    <tr>\n",
       "      <th>1</th>\n",
       "      <td>AL</td>\n",
       "      <td>10</td>\n",
       "    </tr>\n",
       "    <tr>\n",
       "      <th>2</th>\n",
       "      <td>AM</td>\n",
       "      <td>12</td>\n",
       "    </tr>\n",
       "  </tbody>\n",
       "</table>\n",
       "</div>"
      ],
      "text/plain": [
       "  estado  bandeira\n",
       "0     AC        11\n",
       "1     AL        10\n",
       "2     AM        12"
      ]
     },
     "execution_count": 49,
     "metadata": {},
     "output_type": "execute_result"
    }
   ],
   "source": [
    "bandeiras_estado.head(3)"
   ]
  },
  {
   "cell_type": "code",
   "execution_count": 50,
   "metadata": {},
   "outputs": [
    {
     "data": {
      "image/png": "[encoded data removed]",
      "text/plain": [
       "<Figure size 640x480 with 1 Axes>"
      ]
     },
     "metadata": {},
     "output_type": "display_data"
    }
   ],
   "source": [
    "sns.boxplot(x='estado', y='bandeira', data=bandeiras_estado)\n",
    "\n",
    "plt.title('Quantidade de Bandeiras por Estado')\n",
    "plt.xlabel('Estado')\n",
    "plt.ylabel('Quantidade de bandeiras')\n",
    "\n",
    "for index, row in bandeiras_estado.iterrows():\n",
    "    plt.annotate(row['bandeira'], xy=(index, row['bandeira']), ha='center', va='bottom')\n",
    "\n",
    "plt.show()"
   ]
  },
  {
   "cell_type": "code",
   "execution_count": null,
   "metadata": {},
   "outputs": [],
   "source": []
  }
 ],
 "metadata": {
  "kernelspec": {
   "display_name": "Python 3",
   "language": "python",
   "name": "python3"
  },
  "language_info": {
   "codemirror_mode": {
    "name": "ipython",
    "version": 3
   },
   "file_extension": ".py",
   "mimetype": "text/x-python",
   "name": "python",
   "nbconvert_exporter": "python",
   "pygments_lexer": "ipython3",
   "version": "3.12.1"
  }
 },
 "nbformat": 4,
 "nbformat_minor": 2
}
